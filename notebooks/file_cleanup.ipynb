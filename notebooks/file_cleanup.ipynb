{
 "cells": [
  {
   "cell_type": "code",
   "execution_count": 51,
   "id": "a3145239-79ca-4704-aa9b-04617f4b6e32",
   "metadata": {},
   "outputs": [],
   "source": [
    "import pandas as pd\n",
    "import os\n",
    "import glob"
   ]
  },
  {
   "cell_type": "markdown",
   "id": "9dc44fb7-cb91-432e-99f5-5622d0ce24a3",
   "metadata": {},
   "source": [
    "## Read the most recent csv file"
   ]
  },
  {
   "cell_type": "code",
   "execution_count": 109,
   "id": "e9b0404b-31d1-4a4e-9f3c-5f93886646cc",
   "metadata": {},
   "outputs": [
    {
     "data": {
      "text/plain": [
       "'/Users/gauravvattikuti/Documents/VSCode/poker_app/data/Bronze/poker-10427_2024-05-04_export.csv'"
      ]
     },
     "execution_count": 109,
     "metadata": {},
     "output_type": "execute_result"
    }
   ],
   "source": [
    "bronze_path = r'/Users/gauravvattikuti/Documents/VSCode/poker_app/data/Bronze/'\n",
    "\n",
    "base_file = glob.glob(os.path.join(bronze_path, '*.csv'))\n",
    "base_file = base_file[0]\n",
    "# base_file"
   ]
  },
  {
   "cell_type": "markdown",
   "id": "457a6a34-2683-4873-9d72-74639e2af9f4",
   "metadata": {},
   "source": [
    "## Drop Cols and last row"
   ]
  },
  {
   "cell_type": "code",
   "execution_count": 110,
   "id": "80d430d5-2ebd-4258-98f3-c70d20ba1880",
   "metadata": {},
   "outputs": [],
   "source": [
    "base_df = pd.read_csv(base_file)\n",
    "\n",
    "drop_cols = ['Date', 'Category', 'Cost', 'Currency']\n",
    "base_df.drop(drop_cols, axis = 1, inplace = True)\n",
    "\n",
    "base_df.drop(base_df.tail(1).index,inplace=True)\n",
    "\n",
    "# base_df"
   ]
  },
  {
   "cell_type": "markdown",
   "id": "5d2c17a9-5b80-4a85-a087-1f9c8a33583f",
   "metadata": {},
   "source": [
    "## Rename cols to first name and capitalize them"
   ]
  },
  {
   "cell_type": "code",
   "execution_count": 93,
   "id": "ea9f0d7f-ac54-4837-b97d-b2ed98bf9eb9",
   "metadata": {},
   "outputs": [],
   "source": [
    "updated_cols = []\n",
    "\n",
    "for col in base_df.columns:\n",
    "    updated_cols.append(col.split()[0])\n",
    "\n",
    "updated_cols = [name.capitalize() for name in updated_cols]\n",
    "\n",
    "base_df.columns = updated_cols\n",
    "\n",
    "# updated_cols"
   ]
  },
  {
   "cell_type": "markdown",
   "id": "83ccfd9c-7500-4f5a-a629-60304982a9b2",
   "metadata": {},
   "source": [
    "## Clean Up Description Col"
   ]
  },
  {
   "cell_type": "code",
   "execution_count": 94,
   "id": "c9b3d62a-bd75-4166-b387-ea3ccf9663d3",
   "metadata": {},
   "outputs": [],
   "source": [
    "base_df['Description'] = pd.to_numeric(base_df['Description'], errors = 'coerce')\n",
    "\n",
    "base_df['Description'] = base_df['Description'].ffill()\n",
    "\n",
    "base_df['Description'] = base_df['Description'].astype(int)\n",
    "\n",
    "# base_df['Description'].unique()"
   ]
  },
  {
   "cell_type": "markdown",
   "id": "00015cf8-d72b-425d-b88c-3b5191cf1812",
   "metadata": {},
   "source": [
    "## Summarize by Description"
   ]
  },
  {
   "cell_type": "code",
   "execution_count": 96,
   "id": "6f982a5f-d915-44bd-91da-37e5b8d7b4e7",
   "metadata": {},
   "outputs": [],
   "source": [
    "summary_df = base_df.groupby('Description').sum()\n",
    "# summary_df"
   ]
  },
  {
   "cell_type": "markdown",
   "id": "e95954ca-1f27-4650-b777-8ff9159c18ed",
   "metadata": {},
   "source": [
    "## Round Float values"
   ]
  },
  {
   "cell_type": "code",
   "execution_count": 100,
   "id": "d49a9b29-5ef7-4c9a-adfe-14602724fa5c",
   "metadata": {},
   "outputs": [],
   "source": [
    "float_cols = summary_df.select_dtypes(include=['float64']).columns\n",
    "summary_df[float_cols] = summary_df[float_cols].round(2)"
   ]
  },
  {
   "cell_type": "markdown",
   "id": "6ee0ebe0-4ed8-49c5-a2ee-1e8b612d7113",
   "metadata": {},
   "source": [
    "## Write to Silver layer and clean up Bronze"
   ]
  },
  {
   "cell_type": "code",
   "execution_count": 111,
   "id": "a816fc16-425b-4ce1-9d99-a4083639c033",
   "metadata": {},
   "outputs": [
    {
     "name": "stdout",
     "output_type": "stream",
     "text": [
      "File moved successfully.\n"
     ]
    }
   ],
   "source": [
    "silver_path = r'/Users/gauravvattikuti/Documents/VSCode/poker_app/data/Silver/game_data.csv'\n",
    "\n",
    "summary_df.to_csv(silver_path, index=False)\n",
    "\n",
    "history_path = r'/Users/gauravvattikuti/Documents/VSCode/poker_app/data/Bronze/History'\n",
    "\n",
    "if os.path.exists(base_file):\n",
    "    os.rename(base_file, os.path.join(history_path, os.path.basename(base_file)))\n",
    "    print(\"File moved successfully.\")\n",
    "else:\n",
    "    print(\"Source file does not exist.\")"
   ]
  }
 ],
 "metadata": {
  "kernelspec": {
   "display_name": "Python 3 (ipykernel)",
   "language": "python",
   "name": "python3"
  },
  "language_info": {
   "codemirror_mode": {
    "name": "ipython",
    "version": 3
   },
   "file_extension": ".py",
   "mimetype": "text/x-python",
   "name": "python",
   "nbconvert_exporter": "python",
   "pygments_lexer": "ipython3",
   "version": "3.9.6"
  }
 },
 "nbformat": 4,
 "nbformat_minor": 5
}
